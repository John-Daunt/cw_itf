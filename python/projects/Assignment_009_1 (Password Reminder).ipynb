{
 "cells": [
  {
   "cell_type": "markdown",
   "id": "1ce6ae7f-2b82-4da1-ae9a-01f57e487858",
   "metadata": {},
   "source": [
    "my_name = \"John\"\n",
    "name = str(input(\"Enter your name:\").title().strip())\n",
    "if name == my_name :\n",
    "    print(\"Hello, John! The password is : W@12\")\n",
    "else:\n",
    "    print (\"Hello, {}! See you later.\".format(name))"
   ]
  },
  {
   "cell_type": "raw",
   "id": "1fda7da1-43d7-42ac-b8d7-46b252e960d3",
   "metadata": {},
   "source": []
  },
  {
   "cell_type": "code",
   "execution_count": null,
   "id": "1b86cb6e-dd18-4725-b8c2-8795ffbb1bc9",
   "metadata": {},
   "outputs": [],
   "source": []
  },
  {
   "cell_type": "code",
   "execution_count": null,
   "id": "0acf1e90-261a-4c26-8662-c6edc6dc2f9f",
   "metadata": {},
   "outputs": [],
   "source": []
  },
  {
   "cell_type": "code",
   "execution_count": null,
   "id": "e1a24faf-25a4-45cb-843b-ceb9288ef352",
   "metadata": {},
   "outputs": [],
   "source": []
  },
  {
   "cell_type": "code",
   "execution_count": null,
   "id": "036cc6c8-7cdf-4862-9fc7-c48aebd8add6",
   "metadata": {},
   "outputs": [],
   "source": []
  }
 ],
 "metadata": {
  "kernelspec": {
   "display_name": "Python 3",
   "language": "python",
   "name": "python3"
  },
  "language_info": {
   "codemirror_mode": {
    "name": "ipython",
    "version": 3
   },
   "file_extension": ".py",
   "mimetype": "text/x-python",
   "name": "python",
   "nbconvert_exporter": "python",
   "pygments_lexer": "ipython3",
   "version": "3.8.8"
  }
 },
 "nbformat": 4,
 "nbformat_minor": 5
}
