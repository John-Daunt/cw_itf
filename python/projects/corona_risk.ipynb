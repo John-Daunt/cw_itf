{
 "cells": [
  {
   "cell_type": "code",
   "execution_count": 1,
   "id": "d80a1454-5dc0-4959-82dd-fdc6cd7d0440",
   "metadata": {},
   "outputs": [
    {
     "name": "stdin",
     "output_type": "stream",
     "text": [
      "Are you a cigarette addict older than 75 years old? Yes or No: No\n",
      "Do you have a severe chronic disease? Yes or No: No\n",
      "Is your immune system too weak?Yes or No : No\n"
     ]
    },
    {
     "name": "stdout",
     "output_type": "stream",
     "text": [
      "there is not a risk of death\n"
     ]
    }
   ],
   "source": [
    "age = input(\"Are you a cigarette addict older than 75 years old? Yes or No:\").title().strip()\n",
    "chronic = input(\"Do you have a severe chronic disease? Yes or No:\").title().strip()\n",
    "immune = input (\"Is your immune system too weak?Yes or No :\").title().strip()\n",
    "if age == \"Yes\":\n",
    "    age1 = True\n",
    "else:\n",
    "    age1 = False\n",
    "if chronic == \"Yes\":\n",
    "    chronic1 = True\n",
    "else:\n",
    "    chronic1 = False\n",
    "if immune == \"Yes\":\n",
    "    immune1 = True\n",
    "else:\n",
    "    immune1 = False\n",
    "risk =  (age1 or immune1 or chronic1) and 'there is a risk of death' or 'there is not a risk of death'\n",
    "print(risk)"
   ]
  },
  {
   "cell_type": "code",
   "execution_count": null,
   "id": "18a02bc4-d744-473e-930a-f8eca4c7696d",
   "metadata": {},
   "outputs": [],
   "source": []
  }
 ],
 "metadata": {
  "kernelspec": {
   "display_name": "Python 3",
   "language": "python",
   "name": "python3"
  },
  "language_info": {
   "codemirror_mode": {
    "name": "ipython",
    "version": 3
   },
   "file_extension": ".py",
   "mimetype": "text/x-python",
   "name": "python",
   "nbconvert_exporter": "python",
   "pygments_lexer": "ipython3",
   "version": "3.8.8"
  }
 },
 "nbformat": 4,
 "nbformat_minor": 5
}
