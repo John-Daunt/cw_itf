{
 "cells": [
  {
   "cell_type": "code",
   "execution_count": 34,
   "id": "aa8790e0-f15d-49fa-aa2c-9b49d1fe7dfb",
   "metadata": {},
   "outputs": [
    {
     "name": "stdin",
     "output_type": "stream",
     "text": [
      "Enter an integer number:  7\n"
     ]
    },
    {
     "name": "stdout",
     "output_type": "stream",
     "text": [
      "7 is a prime number\n"
     ]
    }
   ],
   "source": [
    "number = int(input(\"Enter an integer number: \"))\n",
    "control = False\n",
    "if number > 1:\n",
    "      for i in range(2, number):\n",
    "        if number % i == 0:\n",
    "            control = True\n",
    "if control:\n",
    "    print(number, \"is not a prime number\")\n",
    "else:\n",
    "    print(number, \"is a prime number\")"
   ]
  },
  {
   "cell_type": "code",
   "execution_count": null,
   "id": "625b7422-f1b7-472c-a33e-82f70d5f3a87",
   "metadata": {},
   "outputs": [],
   "source": []
  }
 ],
 "metadata": {
  "kernelspec": {
   "display_name": "Python 3",
   "language": "python",
   "name": "python3"
  },
  "language_info": {
   "codemirror_mode": {
    "name": "ipython",
    "version": 3
   },
   "file_extension": ".py",
   "mimetype": "text/x-python",
   "name": "python",
   "nbconvert_exporter": "python",
   "pygments_lexer": "ipython3",
   "version": "3.8.8"
  }
 },
 "nbformat": 4,
 "nbformat_minor": 5
}
